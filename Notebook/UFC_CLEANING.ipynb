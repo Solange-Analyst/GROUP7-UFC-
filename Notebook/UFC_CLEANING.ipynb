{
 "cells": [
  {
   "cell_type": "code",
   "execution_count": 3,
   "id": "6141c870",
   "metadata": {},
   "outputs": [],
   "source": [
    "import pandas as pd\n",
    "import os"
   ]
  },
  {
   "cell_type": "code",
   "execution_count": 5,
   "id": "1849842f",
   "metadata": {},
   "outputs": [
    {
     "name": "stdout",
     "output_type": "stream",
     "text": [
      "Reading: C:\\Users\\HP\\OneDrive\\Desktop\\DEMO 3\\UFC Demo3\\ufc_fighters_M_to_O.csv\n",
      "Reading: C:\\Users\\HP\\OneDrive\\Desktop\\DEMO 3\\UFC Demo3\\ufc_fighters_K_to_N.csv\n",
      "Reading: C:\\Users\\HP\\OneDrive\\Desktop\\DEMO 3\\UFC Demo3\\ufc_fighters_K_to_L.csv\n",
      "Reading: C:\\Users\\HP\\OneDrive\\Desktop\\DEMO 3\\UFC Demo3\\ufc_fighters_K_to_K.csv\n",
      "Reading: C:\\Users\\HP\\OneDrive\\Desktop\\DEMO 3\\UFC Demo3\\ufc_fighters_S_to_S.csv\n",
      "Reading: C:\\Users\\HP\\OneDrive\\Desktop\\DEMO 3\\UFC Demo3\\ufc_fighters_S_to_T.csv\n",
      "Reading: C:\\Users\\HP\\OneDrive\\Desktop\\DEMO 3\\UFC Demo3\\ufc_fighters_S_to_U.csv\n",
      "Reading: C:\\Users\\HP\\OneDrive\\Desktop\\DEMO 3\\UFC Demo3\\ufc_fighters_S_to_W.csv\n",
      "Reading: C:\\Users\\HP\\OneDrive\\Desktop\\DEMO 3\\UFC Demo3\\ufc_fighters_S_to_X.csv\n",
      "Reading: C:\\Users\\HP\\OneDrive\\Desktop\\DEMO 3\\UFC Demo3\\ufc_fighters_S_to_Y.csv\n",
      "Reading: C:\\Users\\HP\\OneDrive\\Desktop\\DEMO 3\\UFC Demo3\\ufc_fighters_S_to_Z.csv\n",
      "Reading: C:\\Users\\HP\\OneDrive\\Desktop\\DEMO 3\\UFC Demo3\\ufc_fighters_K_to_K.csv\n",
      "Reading: C:\\Users\\HP\\OneDrive\\Desktop\\DEMO 3\\UFC Demo3\\ufc_fighters_K_to_L.csv\n",
      "Reading: C:\\Users\\HP\\OneDrive\\Desktop\\DEMO 3\\UFC Demo3\\ufc_fighters_M_to_O.csv\n",
      "Reading: C:\\Users\\HP\\OneDrive\\Desktop\\DEMO 3\\UFC Demo3\\ufc_fighters_up_to_A.csv\n",
      "Reading: C:\\Users\\HP\\OneDrive\\Desktop\\DEMO 3\\UFC Demo3\\ufc_fighters_up_to_B.csv\n",
      "Reading: C:\\Users\\HP\\OneDrive\\Desktop\\DEMO 3\\UFC Demo3\\ufc_fighters_up_to_C.csv\n",
      "Reading: C:\\Users\\HP\\OneDrive\\Desktop\\DEMO 3\\UFC Demo3\\ufc_fighters_up_to_D.csv\n",
      "Reading: C:\\Users\\HP\\OneDrive\\Desktop\\DEMO 3\\UFC Demo3\\ufc_fighters_up_to_E.csv\n",
      "Reading: C:\\Users\\HP\\OneDrive\\Desktop\\DEMO 3\\UFC Demo3\\ufc_fighters_up_to_F.csv\n",
      "Reading: C:\\Users\\HP\\OneDrive\\Desktop\\DEMO 3\\UFC Demo3\\ufc_fighters_up_to_G.csv\n",
      "Reading: C:\\Users\\HP\\OneDrive\\Desktop\\DEMO 3\\UFC Demo3\\ufc_fighters_up_to_H.csv\n",
      "Reading: C:\\Users\\HP\\OneDrive\\Desktop\\DEMO 3\\UFC Demo3\\ufc_fighters_up_to_I.csv\n",
      "Reading: C:\\Users\\HP\\OneDrive\\Desktop\\DEMO 3\\UFC Demo3\\ufc_fighters_up_to_J.csv\n",
      "Merged fighter data saved as 'ufc_fighters_S_to_Z.csv'\n"
     ]
    }
   ],
   "source": [
    "# Path to your folder\n",
    "folder_path = r\"C:\\Users\\HP\\OneDrive\\Desktop\\DEMO 3\\UFC Demo3\"\n",
    "\n",
    "# Exact filenames from the folder\n",
    "file_names = [\n",
    "    'ufc_fighters_M_to_O.csv',\n",
    "    'ufc_fighters_K_to_N.csv',\n",
    "    'ufc_fighters_K_to_L.csv',\n",
    "    'ufc_fighters_K_to_K.csv',\n",
    "    'ufc_fighters_S_to_S.csv',\n",
    "    'ufc_fighters_S_to_T.csv',\n",
    "    'ufc_fighters_S_to_U.csv',\n",
    "    'ufc_fighters_S_to_W.csv',\n",
    "    'ufc_fighters_S_to_X.csv',\n",
    "    'ufc_fighters_S_to_Y.csv',\n",
    "    'ufc_fighters_S_to_Z.csv',\n",
    "    'ufc_fighters_K_to_K.csv',\n",
    "    'ufc_fighters_K_to_L.csv',\n",
    "    'ufc_fighters_M_to_O.csv',\n",
    "    'ufc_fighters_up_to_A.csv',\n",
    "    'ufc_fighters_up_to_B.csv',\n",
    "    'ufc_fighters_up_to_C.csv',\n",
    "    'ufc_fighters_up_to_D.csv',\n",
    "    'ufc_fighters_up_to_E.csv',\n",
    "    'ufc_fighters_up_to_F.csv',\n",
    "    'ufc_fighters_up_to_G.csv',\n",
    "    'ufc_fighters_up_to_H.csv',\n",
    "    'ufc_fighters_up_to_I.csv',\n",
    "    'ufc_fighters_up_to_J.csv'\n",
    "]\n",
    "\n",
    "fighter_dfs = []\n",
    "\n",
    "# Read each file and append to list\n",
    "for file_name in file_names:\n",
    "    file_path = os.path.join(folder_path, file_name)\n",
    "    if os.path.exists(file_path):\n",
    "        print(f\"Reading: {file_path}\")\n",
    "        df = pd.read_csv(file_path)\n",
    "        fighter_dfs.append(df)\n",
    "    else:\n",
    "        print(f\"File not found: {file_path}\")\n",
    "\n",
    "# Merge and save if data was found\n",
    "if fighter_dfs:\n",
    "    all_fighters_df = pd.concat(fighter_dfs, ignore_index=True)\n",
    "    all_fighters_df.to_csv('ufc_fighters_S_to_Z.csv', index=False)\n",
    "    print(\"Merged fighter data saved as 'ufc_fighters_S_to_Z.csv'\")\n",
    "else:\n",
    "    print(\"No data files found to merge.\")"
   ]
  },
  {
   "cell_type": "code",
   "execution_count": 8,
   "id": "ae191a19",
   "metadata": {},
   "outputs": [
    {
     "name": "stdout",
     "output_type": "stream",
     "text": [
      "Reading: C:\\Users\\HP\\OneDrive\\Desktop\\DEMO 3\\UFC Demo3\\ufc_fights_up_to_J.csv\n",
      "Reading: C:\\Users\\HP\\OneDrive\\Desktop\\DEMO 3\\UFC Demo3\\ufc_fights_up_to_I.csv\n",
      "Reading: C:\\Users\\HP\\OneDrive\\Desktop\\DEMO 3\\UFC Demo3\\ufc_fights_up_to_H.csv\n",
      "Reading: C:\\Users\\HP\\OneDrive\\Desktop\\DEMO 3\\UFC Demo3\\ufc_fights_up_to_G.csv\n",
      "Reading: C:\\Users\\HP\\OneDrive\\Desktop\\DEMO 3\\UFC Demo3\\ufc_fights_up_to_F.csv\n",
      "Reading: C:\\Users\\HP\\OneDrive\\Desktop\\DEMO 3\\UFC Demo3\\ufc_fights_up_to_E.csv\n",
      "Reading: C:\\Users\\HP\\OneDrive\\Desktop\\DEMO 3\\UFC Demo3\\ufc_fights_up_to_D.csv\n",
      "Reading: C:\\Users\\HP\\OneDrive\\Desktop\\DEMO 3\\UFC Demo3\\ufc_fights_up_to_C.csv\n",
      "Reading: C:\\Users\\HP\\OneDrive\\Desktop\\DEMO 3\\UFC Demo3\\ufc_fights_up_to_B.csv\n",
      "Reading: C:\\Users\\HP\\OneDrive\\Desktop\\DEMO 3\\UFC Demo3\\ufc_fights_up_to_A.csv\n",
      "Reading: C:\\Users\\HP\\OneDrive\\Desktop\\DEMO 3\\UFC Demo3\\ufc_fights_S_to_S.csv\n",
      "Reading: C:\\Users\\HP\\OneDrive\\Desktop\\DEMO 3\\UFC Demo3\\ufc_fights_S_to_T.csv\n",
      "Reading: C:\\Users\\HP\\OneDrive\\Desktop\\DEMO 3\\UFC Demo3\\ufc_fights_S_to_U.csv\n",
      "Reading: C:\\Users\\HP\\OneDrive\\Desktop\\DEMO 3\\UFC Demo3\\ufc_fights_S_to_V.csv\n",
      "Reading: C:\\Users\\HP\\OneDrive\\Desktop\\DEMO 3\\UFC Demo3\\ufc_fights_S_to_W.csv\n",
      "Reading: C:\\Users\\HP\\OneDrive\\Desktop\\DEMO 3\\UFC Demo3\\ufc_fights_S_to_X.csv\n",
      "Reading: C:\\Users\\HP\\OneDrive\\Desktop\\DEMO 3\\UFC Demo3\\ufc_fights_S_to_Y.csv\n",
      "Reading: C:\\Users\\HP\\OneDrive\\Desktop\\DEMO 3\\UFC Demo3\\ufc_fights_S_to_Z.csv\n",
      "Reading: C:\\Users\\HP\\OneDrive\\Desktop\\DEMO 3\\UFC Demo3\\ufc_fights_P_to_R.csv\n",
      "Reading: C:\\Users\\HP\\OneDrive\\Desktop\\DEMO 3\\UFC Demo3\\ufc_fights_P_to_Q.csv\n",
      "Reading: C:\\Users\\HP\\OneDrive\\Desktop\\DEMO 3\\UFC Demo3\\ufc_fights_P_to_P.csv\n",
      "Reading: C:\\Users\\HP\\OneDrive\\Desktop\\DEMO 3\\UFC Demo3\\ufc_fights_M_to_O.csv\n",
      "Reading: C:\\Users\\HP\\OneDrive\\Desktop\\DEMO 3\\UFC Demo3\\ufc_fights_K_to_N.csv\n",
      "Reading: C:\\Users\\HP\\OneDrive\\Desktop\\DEMO 3\\UFC Demo3\\ufc_fights_K_to_L.csv\n",
      "Reading: C:\\Users\\HP\\OneDrive\\Desktop\\DEMO 3\\UFC Demo3\\ufc_fights_K_to_K.csv\n",
      "Merged fight data saved as 'ufc_fights_S_to_Z.csv'\n"
     ]
    }
   ],
   "source": [
    "import pandas as pd\n",
    "import os\n",
    "\n",
    "folder_path = r\"C:\\Users\\HP\\OneDrive\\Desktop\\DEMO 3\\UFC Demo3\"\n",
    "\n",
    "fight_file_names = [\n",
    "    'ufc_fights_up_to_J.csv',\n",
    "    'ufc_fights_up_to_I.csv',\n",
    "    'ufc_fights_up_to_H.csv',\n",
    "    'ufc_fights_up_to_G.csv',\n",
    "    'ufc_fights_up_to_F.csv',\n",
    "    'ufc_fights_up_to_E.csv',\n",
    "    'ufc_fights_up_to_D.csv',\n",
    "    'ufc_fights_up_to_C.csv',\n",
    "    'ufc_fights_up_to_B.csv',\n",
    "    'ufc_fights_up_to_A.csv',\n",
    "    'ufc_fights_S_to_S.csv',\n",
    "    'ufc_fights_S_to_T.csv',\n",
    "    'ufc_fights_S_to_U.csv',\n",
    "    'ufc_fights_S_to_V.csv',\n",
    "    'ufc_fights_S_to_W.csv',\n",
    "    'ufc_fights_S_to_X.csv',\n",
    "    'ufc_fights_S_to_Y.csv',\n",
    "    'ufc_fights_S_to_Z.csv',\n",
    "    'ufc_fights_P_to_R.csv',\n",
    "    'ufc_fights_P_to_Q.csv',\n",
    "    'ufc_fights_P_to_P.csv',\n",
    "    'ufc_fights_M_to_O.csv',\n",
    "    'ufc_fights_K_to_N.csv',\n",
    "    'ufc_fights_K_to_L.csv',\n",
    "    'ufc_fights_K_to_K.csv'\n",
    "]\n",
    "\n",
    "fight_dfs = []\n",
    "\n",
    "for file_name in fight_file_names:\n",
    "    file_path = os.path.join(folder_path, file_name)\n",
    "    if os.path.exists(file_path):\n",
    "        print(f\"Reading: {file_path}\")\n",
    "        df = pd.read_csv(file_path)\n",
    "        fight_dfs.append(df)\n",
    "    else:\n",
    "        print(f\" File not found: {file_path}\")\n",
    "\n",
    "if fight_dfs:\n",
    "    all_fights_df = pd.concat(fight_dfs, ignore_index=True)\n",
    "    all_fights_df.to_csv('ufc_fights_S_to_Z.csv', index=False)\n",
    "    print(\"Merged fight data saved as 'ufc_fights_S_to_Z.csv'\")\n",
    "else:\n",
    "    print(\"No fight files found to merge.\")"
   ]
  },
  {
   "cell_type": "code",
   "execution_count": 9,
   "id": "db4b4c30",
   "metadata": {},
   "outputs": [
    {
     "name": "stdout",
     "output_type": "stream",
     "text": [
      "Fighters DataFrame:\n",
      "  First Name  Last Name                                               Link  \\\n",
      "0  Dong Hyun         Ma  http://ufcstats.com/fighter-details/98a6b23610...   \n",
      "1      Pawan       Maan  http://ufcstats.com/fighter-details/450bacdacd...   \n",
      "2    William    Macario  http://ufcstats.com/fighter-details/ed74afc8b5...   \n",
      "3      Jason  MacDonald  http://ufcstats.com/fighter-details/2be6596a9d...   \n",
      "4        Rob  MacDonald  http://ufcstats.com/fighter-details/f3388d2cf7...   \n",
      "\n",
      "     Nick Name  Wins  Losses Draws  Height    Weight Reach    STANCE  \\\n",
      "0      Maestro    16      11     3  5' 11\"  155 lbs.   70\"  Orthodox   \n",
      "1          NaN     7       3     1   5' 7\"  155 lbs.   70\"  Orthodox   \n",
      "2     Patolino     9       3     0  5' 11\"  170 lbs.   75\"  Orthodox   \n",
      "3  The Athlete    25      16     0   6' 3\"  185 lbs.   80\"  Orthodox   \n",
      "4      Maximus     5       4     0   6' 3\"  205 lbs.   78\"  Orthodox   \n",
      "\n",
      "            DOB  SLpM Str. Acc.  SApM Str. Def  TD Avg. TD Acc. TD Def.  \\\n",
      "0  Sep 09, 1988  2.84       41%  4.10      54%     1.27     53%     33%   \n",
      "1  Apr 06, 1986  0.89       44%  2.98      43%     0.00      0%      0%   \n",
      "2  Jul 01, 1991  4.92       54%  3.96      65%     1.85     45%     78%   \n",
      "3  Jun 03, 1975  1.55       52%  2.70      46%     1.43     16%     35%   \n",
      "4  Sep 05, 1978  1.80       50%  2.04      46%     7.19     80%     80%   \n",
      "\n",
      "   Sub. Avg.  \n",
      "0        0.0  \n",
      "1        0.0  \n",
      "2        0.0  \n",
      "3        2.0  \n",
      "4        5.4   \n",
      "\n",
      "Fights DataFrame:\n",
      "           Fighter   W/L        Opponent Knockdowns Strikes Takedowns  \\\n",
      "0        Tom Aaron  loss  Matt Ricehouse         --      --        --   \n",
      "1        Tom Aaron   win  Eric Steenberg         --      --        --   \n",
      "2     Danny Abbadi  loss    Jorge Gurgel          0      56         0   \n",
      "3     Danny Abbadi  loss   Kalib Starnes          0       3         0   \n",
      "4  Nariman Abbasov  loss   Ismael Bonfim          0      45         0   \n",
      "\n",
      "  SubmissionAttempts                                              Event  \\\n",
      "0                 --  Strikeforce - Henderson vs. Babalu            ...   \n",
      "1                 --  Strikeforce - Heavy Artillery                 ...   \n",
      "2                  0  UFC 63: Hughes vs Penn                        ...   \n",
      "3                  0  The Ultimate Fighter: Team Ortiz vs. Team Sham...   \n",
      "4                  0  DWCS 6.7                                   Sep...   \n",
      "\n",
      "  Method  Round  Date  \n",
      "0  U-DEC      3  5:00  \n",
      "1    SUB      1  0:56  \n",
      "2  S-DEC      3  5:00  \n",
      "3    SUB      1  2:56  \n",
      "4  U-DEC      3  5:00  \n"
     ]
    }
   ],
   "source": [
    "import pandas as pd\n",
    "\n",
    "# Load merged fighter and fight data\n",
    "fighters_df = pd.read_csv('ufc_fighters_S_to_Z.csv')\n",
    "fights_df = pd.read_csv('ufc_fights_S_to_Z.csv')\n",
    "\n",
    "# Preview the data\n",
    "print(\"Fighters DataFrame:\")\n",
    "print(fighters_df.head(), \"\\n\")\n",
    "\n",
    "print(\"Fights DataFrame:\")\n",
    "print(fights_df.head())\n"
   ]
  },
  {
   "cell_type": "code",
   "execution_count": 10,
   "id": "c797b624",
   "metadata": {},
   "outputs": [
    {
     "name": "stdout",
     "output_type": "stream",
     "text": [
      "Loading data...\n",
      "Data loaded successfully.\n",
      "Fights shape: (102531, 11)\n",
      "Fighters shape: (20310, 20)\n"
     ]
    }
   ],
   "source": [
    "# Load all scraped data\n",
    "print(\"Loading data...\")\n",
    "df_fights = pd.read_csv(\"ufc_fights_S_to_Z.csv\")\n",
    "df_fighters = pd.read_csv(\"ufc_fighters_S_to_Z.csv\")\n",
    "print(\"Data loaded successfully.\")\n",
    "print(f\"Fights shape: {df_fights.shape}\")\n",
    "print(f\"Fighters shape: {df_fighters.shape}\")"
   ]
  },
  {
   "cell_type": "code",
   "execution_count": 11,
   "id": "f9ac1d39",
   "metadata": {},
   "outputs": [
    {
     "name": "stdout",
     "output_type": "stream",
     "text": [
      "Replacing placeholder values with NaN...\n"
     ]
    }
   ],
   "source": [
    "# Replace dashes or empty strings with NaN\n",
    "print(\"Replacing placeholder values with NaN...\")\n",
    "df_fights.replace(['--', '', ' '], pd.NA, inplace=True)\n",
    "df_fighters.replace(['--', '', ' '], pd.NA, inplace=True)"
   ]
  },
  {
   "cell_type": "code",
   "execution_count": 12,
   "id": "37eba1b7",
   "metadata": {},
   "outputs": [
    {
     "name": "stdout",
     "output_type": "stream",
     "text": [
      "Renaming ambiguous columns...\n"
     ]
    }
   ],
   "source": [
    "print(\"Renaming ambiguous columns...\")\n",
    "df_fighters.rename(columns={\n",
    "    'SLpM': 'Strikes_Landed_per_Minute',\n",
    "    'Str. Acc.': 'Striking_Accuracy',\n",
    "    'SApM': 'Strikes_Absorbed_per_Minute',\n",
    "    'Str. Def': 'Strike_Defense',\n",
    "    'TD Avg.': 'Takedown_Average',\n",
    "    'TD Acc.': 'Takedown_Accuracy',\n",
    "    'TD Def.': 'Takedown_Defense',\n",
    "    'Sub. Avg.': 'Submission_Average'\n",
    "}, inplace=True)"
   ]
  },
  {
   "cell_type": "code",
   "execution_count": 13,
   "id": "564652ae",
   "metadata": {},
   "outputs": [
    {
     "name": "stdout",
     "output_type": "stream",
     "text": [
      "Converting fight stats to numeric values...\n"
     ]
    }
   ],
   "source": [
    "#Convert Columns to Numeric\n",
    "print(\"Converting fight stats to numeric values...\")\n",
    "numeric_cols = ['Knockdowns', 'Takedowns', 'SubmissionAttempts', 'Round']\n",
    "for col in numeric_cols:\n",
    "    df_fights[col] = pd.to_numeric(df_fights[col], errors='coerce')"
   ]
  },
  {
   "cell_type": "code",
   "execution_count": 14,
   "id": "e30c531e",
   "metadata": {},
   "outputs": [
    {
     "name": "stdout",
     "output_type": "stream",
     "text": [
      "Standardizing W/L column...\n"
     ]
    }
   ],
   "source": [
    "#Standardize Win/Loss Column\n",
    "print(\"Standardizing W/L column...\")\n",
    "df_fights['W/L'] = df_fights['W/L'].str.upper().str.strip().replace({'W': 'Win', 'L': 'Loss', 'D': 'Draw'})\n"
   ]
  },
  {
   "cell_type": "code",
   "execution_count": 15,
   "id": "ade0e63d",
   "metadata": {},
   "outputs": [
    {
     "name": "stdout",
     "output_type": "stream",
     "text": [
      "Splitting 'Strikes' column into landed and attempted...\n"
     ]
    }
   ],
   "source": [
    "#Split 'Strikes' into Landed and Attempted (if needed)\n",
    "if 'Strikes' in df_fights.columns:\n",
    "    print(\"Splitting 'Strikes' column into landed and attempted...\")\n",
    "    df_fights[['Strikes_Landed', 'Strikes_Attempted']] = df_fights['Strikes'].str.extract(r'(\\d+)\\s*of\\s*(\\d+)', expand=True)\n",
    "    df_fights.drop(columns='Strikes', inplace=True)\n",
    "    df_fights['Strikes_Landed'] = pd.to_numeric(df_fights['Strikes_Landed'], errors='coerce')\n",
    "    df_fights['Strikes_Attempted'] = pd.to_numeric(df_fights['Strikes_Attempted'], errors='coerce')\n",
    "else:\n",
    "    print(\"'Strikes' column already split or not present.\")"
   ]
  },
  {
   "cell_type": "code",
   "execution_count": 16,
   "id": "a56adaf6",
   "metadata": {},
   "outputs": [
    {
     "name": "stdout",
     "output_type": "stream",
     "text": [
      "Converting fight Date to seconds...\n"
     ]
    }
   ],
   "source": [
    "# Convert Time Column to Seconds\n",
    "print(\"Converting fight Date to seconds...\")\n",
    "\n",
    "def  Date_to_seconds(t):\n",
    "    try:\n",
    "        minutes, seconds = map(int, t.split(':'))\n",
    "        return minutes * 60 + seconds\n",
    "    except:\n",
    "        return pd.NA\n",
    "\n",
    "if 'Date' in df_fights.columns:\n",
    "    df_fights['Date_in_Seconds'] = df_fights['Date'].apply(Date_to_seconds)\n",
    "    df_fights['Total_Fight_Date'] = df_fights['Date_in_Seconds'] * df_fights['Round']\n",
    "else:\n",
    "    print(\"No 'Date' column found, skipping Date conversion.\")"
   ]
  },
  {
   "cell_type": "code",
   "execution_count": 17,
   "id": "e283980a",
   "metadata": {},
   "outputs": [
    {
     "name": "stdout",
     "output_type": "stream",
     "text": [
      "Removing duplicate records...\n",
      "Removed 81075 duplicate fight records.\n",
      "Removed 16420 duplicate fighter records.\n"
     ]
    }
   ],
   "source": [
    "# Remove Duplicates\n",
    "print(\"Removing duplicate records...\")\n",
    "before_fights = df_fights.shape[0]\n",
    "before_fighters = df_fighters.shape[0]\n",
    "df_fights.drop_duplicates(inplace=True)\n",
    "df_fighters.drop_duplicates(subset=['Link'], inplace=True)\n",
    "print(f\"Removed {before_fights - df_fights.shape[0]} duplicate fight records.\")\n",
    "print(f\"Removed {before_fighters - df_fighters.shape[0]} duplicate fighter records.\")"
   ]
  },
  {
   "cell_type": "code",
   "execution_count": 18,
   "id": "0badd3c7",
   "metadata": {},
   "outputs": [
    {
     "name": "stdout",
     "output_type": "stream",
     "text": [
      "Fights shape: (102531, 11)\n",
      "Fighters shape: (20310, 20)\n"
     ]
    }
   ],
   "source": [
    "df_fights = pd.read_csv(\"ufc_fights_S_to_Z.csv\")\n",
    "df_fighters = pd.read_csv(\"ufc_fighters_S_to_Z.csv\")\n",
    "print(f\"Fights shape: {df_fights.shape}\")\n",
    "print(f\"Fighters shape: {df_fighters.shape}\")\n"
   ]
  },
  {
   "cell_type": "code",
   "execution_count": 20,
   "id": "225e667d",
   "metadata": {},
   "outputs": [
    {
     "name": "stdout",
     "output_type": "stream",
     "text": [
      "Preparing data for merge...\n"
     ]
    }
   ],
   "source": [
    "# Prepare for Merge \n",
    "print(\"Preparing data for merge...\")\n",
    "df_fighters['Fighter'] = (df_fighters['First Name'] + ' ' + df_fighters['Last Name']).str.lower()\n",
    "df_fights['Fighter'] = df_fights['Fighter'].str.lower()"
   ]
  },
  {
   "cell_type": "code",
   "execution_count": 21,
   "id": "99694aac",
   "metadata": {},
   "outputs": [
    {
     "name": "stdout",
     "output_type": "stream",
     "text": [
      "Merging fight data with fighter bios...\n",
      "Merged dataset shape: (659297, 31)\n"
     ]
    }
   ],
   "source": [
    "# Merge Data\n",
    "print(\"Merging fight data with fighter bios...\")\n",
    "df_merged = df_fights.merge(df_fighters, on='Fighter', how='left')\n",
    "print(f\"Merged dataset shape: {df_merged.shape}\")"
   ]
  },
  {
   "cell_type": "code",
   "execution_count": 24,
   "id": "fa3fc239",
   "metadata": {},
   "outputs": [
    {
     "name": "stdout",
     "output_type": "stream",
     "text": [
      "Cleaned and merged dataset saved as 'ufc_clean_merged_data1.csv'.\n"
     ]
    }
   ],
   "source": [
    "# Save Clean Dataset\n",
    "df_merged.to_csv(\"ufc_clean_merged_data.csv\", index=False)\n",
    "print(\"Cleaned and merged dataset saved as 'ufc_clean_merged_data1.csv'.\")"
   ]
  },
  {
   "cell_type": "code",
   "execution_count": null,
   "id": "66fc9256-384d-4a83-bcdf-ac65c8a66108",
   "metadata": {},
   "outputs": [],
   "source": [
    "#Removing duplicates"
   ]
  },
  {
   "cell_type": "code",
   "execution_count": 25,
   "id": "a7fd041f",
   "metadata": {},
   "outputs": [],
   "source": [
    "file_path = r\"C:\\Users\\HP\\OneDrive\\Desktop\\DEMO 3\\All\\ufc_clean_merged_data.csv\"\n",
    "df = pd.read_csv(file_path)"
   ]
  },
  {
   "cell_type": "code",
   "execution_count": 26,
   "id": "588ee7a7-8ac3-4f86-b416-8b4285d04a57",
   "metadata": {},
   "outputs": [
    {
     "name": "stdout",
     "output_type": "stream",
     "text": [
      "Original dataset shape: (659297, 31)\n",
      "Number of duplicate rows: 637791\n"
     ]
    }
   ],
   "source": [
    "print(\"Original dataset shape:\", df.shape)\n",
    "duplicate_rows = df.duplicated()\n",
    "print(\"Number of duplicate rows:\", duplicate_rows.sum())"
   ]
  },
  {
   "cell_type": "code",
   "execution_count": 27,
   "id": "ca9e0360-3f00-4015-8bab-b432cad93cb3",
   "metadata": {},
   "outputs": [
    {
     "data": {
      "text/html": [
       "<div>\n",
       "<style scoped>\n",
       "    .dataframe tbody tr th:only-of-type {\n",
       "        vertical-align: middle;\n",
       "    }\n",
       "\n",
       "    .dataframe tbody tr th {\n",
       "        vertical-align: top;\n",
       "    }\n",
       "\n",
       "    .dataframe thead th {\n",
       "        text-align: right;\n",
       "    }\n",
       "</style>\n",
       "<table border=\"1\" class=\"dataframe\">\n",
       "  <thead>\n",
       "    <tr style=\"text-align: right;\">\n",
       "      <th></th>\n",
       "      <th>Fighter</th>\n",
       "      <th>W/L</th>\n",
       "      <th>Opponent</th>\n",
       "      <th>Knockdowns</th>\n",
       "      <th>Strikes</th>\n",
       "      <th>Takedowns</th>\n",
       "      <th>SubmissionAttempts</th>\n",
       "      <th>Event</th>\n",
       "      <th>Method</th>\n",
       "      <th>Round</th>\n",
       "      <th>...</th>\n",
       "      <th>STANCE</th>\n",
       "      <th>DOB</th>\n",
       "      <th>SLpM</th>\n",
       "      <th>Str. Acc.</th>\n",
       "      <th>SApM</th>\n",
       "      <th>Str. Def</th>\n",
       "      <th>TD Avg.</th>\n",
       "      <th>TD Acc.</th>\n",
       "      <th>TD Def.</th>\n",
       "      <th>Sub. Avg.</th>\n",
       "    </tr>\n",
       "  </thead>\n",
       "  <tbody>\n",
       "    <tr>\n",
       "      <th>0</th>\n",
       "      <td>tom aaron</td>\n",
       "      <td>loss</td>\n",
       "      <td>Matt Ricehouse</td>\n",
       "      <td>--</td>\n",
       "      <td>--</td>\n",
       "      <td>--</td>\n",
       "      <td>--</td>\n",
       "      <td>Strikeforce - Henderson vs. Babalu            ...</td>\n",
       "      <td>U-DEC</td>\n",
       "      <td>3</td>\n",
       "      <td>...</td>\n",
       "      <td>NaN</td>\n",
       "      <td>Jul 13, 1978</td>\n",
       "      <td>0.00</td>\n",
       "      <td>0%</td>\n",
       "      <td>0.00</td>\n",
       "      <td>0%</td>\n",
       "      <td>0.0</td>\n",
       "      <td>0%</td>\n",
       "      <td>0%</td>\n",
       "      <td>0.0</td>\n",
       "    </tr>\n",
       "    <tr>\n",
       "      <th>10</th>\n",
       "      <td>tom aaron</td>\n",
       "      <td>win</td>\n",
       "      <td>Eric Steenberg</td>\n",
       "      <td>--</td>\n",
       "      <td>--</td>\n",
       "      <td>--</td>\n",
       "      <td>--</td>\n",
       "      <td>Strikeforce - Heavy Artillery                 ...</td>\n",
       "      <td>SUB</td>\n",
       "      <td>1</td>\n",
       "      <td>...</td>\n",
       "      <td>NaN</td>\n",
       "      <td>Jul 13, 1978</td>\n",
       "      <td>0.00</td>\n",
       "      <td>0%</td>\n",
       "      <td>0.00</td>\n",
       "      <td>0%</td>\n",
       "      <td>0.0</td>\n",
       "      <td>0%</td>\n",
       "      <td>0%</td>\n",
       "      <td>0.0</td>\n",
       "    </tr>\n",
       "    <tr>\n",
       "      <th>20</th>\n",
       "      <td>danny abbadi</td>\n",
       "      <td>loss</td>\n",
       "      <td>Jorge Gurgel</td>\n",
       "      <td>0</td>\n",
       "      <td>56</td>\n",
       "      <td>0</td>\n",
       "      <td>0</td>\n",
       "      <td>UFC 63: Hughes vs Penn                        ...</td>\n",
       "      <td>S-DEC</td>\n",
       "      <td>3</td>\n",
       "      <td>...</td>\n",
       "      <td>Orthodox</td>\n",
       "      <td>Jul 03, 1983</td>\n",
       "      <td>3.29</td>\n",
       "      <td>38%</td>\n",
       "      <td>4.41</td>\n",
       "      <td>57%</td>\n",
       "      <td>0.0</td>\n",
       "      <td>0%</td>\n",
       "      <td>77%</td>\n",
       "      <td>0.0</td>\n",
       "    </tr>\n",
       "    <tr>\n",
       "      <th>30</th>\n",
       "      <td>danny abbadi</td>\n",
       "      <td>loss</td>\n",
       "      <td>Kalib Starnes</td>\n",
       "      <td>0</td>\n",
       "      <td>3</td>\n",
       "      <td>0</td>\n",
       "      <td>0</td>\n",
       "      <td>The Ultimate Fighter: Team Ortiz vs. Team Sham...</td>\n",
       "      <td>SUB</td>\n",
       "      <td>1</td>\n",
       "      <td>...</td>\n",
       "      <td>Orthodox</td>\n",
       "      <td>Jul 03, 1983</td>\n",
       "      <td>3.29</td>\n",
       "      <td>38%</td>\n",
       "      <td>4.41</td>\n",
       "      <td>57%</td>\n",
       "      <td>0.0</td>\n",
       "      <td>0%</td>\n",
       "      <td>77%</td>\n",
       "      <td>0.0</td>\n",
       "    </tr>\n",
       "    <tr>\n",
       "      <th>40</th>\n",
       "      <td>nariman abbasov</td>\n",
       "      <td>loss</td>\n",
       "      <td>Ismael Bonfim</td>\n",
       "      <td>0</td>\n",
       "      <td>45</td>\n",
       "      <td>0</td>\n",
       "      <td>0</td>\n",
       "      <td>DWCS 6.7                                   Sep...</td>\n",
       "      <td>U-DEC</td>\n",
       "      <td>3</td>\n",
       "      <td>...</td>\n",
       "      <td>Orthodox</td>\n",
       "      <td>Feb 01, 1994</td>\n",
       "      <td>3.00</td>\n",
       "      <td>20%</td>\n",
       "      <td>5.67</td>\n",
       "      <td>46%</td>\n",
       "      <td>0.0</td>\n",
       "      <td>0%</td>\n",
       "      <td>66%</td>\n",
       "      <td>0.0</td>\n",
       "    </tr>\n",
       "    <tr>\n",
       "      <th>...</th>\n",
       "      <td>...</td>\n",
       "      <td>...</td>\n",
       "      <td>...</td>\n",
       "      <td>...</td>\n",
       "      <td>...</td>\n",
       "      <td>...</td>\n",
       "      <td>...</td>\n",
       "      <td>...</td>\n",
       "      <td>...</td>\n",
       "      <td>...</td>\n",
       "      <td>...</td>\n",
       "      <td>...</td>\n",
       "      <td>...</td>\n",
       "      <td>...</td>\n",
       "      <td>...</td>\n",
       "      <td>...</td>\n",
       "      <td>...</td>\n",
       "      <td>...</td>\n",
       "      <td>...</td>\n",
       "      <td>...</td>\n",
       "      <td>...</td>\n",
       "    </tr>\n",
       "    <tr>\n",
       "      <th>656219</th>\n",
       "      <td>chris lytle</td>\n",
       "      <td>loss</td>\n",
       "      <td>Karo Parisyan</td>\n",
       "      <td>0\\n</td>\n",
       "      <td>7\\n</td>\n",
       "      <td>0\\n</td>\n",
       "      <td>2\\n</td>\n",
       "      <td>UFC 51: Super Saturday\\n          \\n\\n\\n      ...</td>\n",
       "      <td>U-DEC</td>\n",
       "      <td>3</td>\n",
       "      <td>...</td>\n",
       "      <td>Orthodox</td>\n",
       "      <td>Aug 18, 1974</td>\n",
       "      <td>3.76</td>\n",
       "      <td>45%</td>\n",
       "      <td>3.03</td>\n",
       "      <td>58%</td>\n",
       "      <td>0.7</td>\n",
       "      <td>55%</td>\n",
       "      <td>55%</td>\n",
       "      <td>2.4</td>\n",
       "    </tr>\n",
       "    <tr>\n",
       "      <th>656221</th>\n",
       "      <td>chris lytle</td>\n",
       "      <td>win</td>\n",
       "      <td>Ronald Jhun</td>\n",
       "      <td>1\\n</td>\n",
       "      <td>12\\n</td>\n",
       "      <td>0\\n</td>\n",
       "      <td>2\\n</td>\n",
       "      <td>UFC 49: Unfinished Business\\n          \\n\\n\\n ...</td>\n",
       "      <td>SUB\\n</td>\n",
       "      <td>2</td>\n",
       "      <td>...</td>\n",
       "      <td>Orthodox</td>\n",
       "      <td>Aug 18, 1974</td>\n",
       "      <td>3.76</td>\n",
       "      <td>45%</td>\n",
       "      <td>3.03</td>\n",
       "      <td>58%</td>\n",
       "      <td>0.7</td>\n",
       "      <td>55%</td>\n",
       "      <td>55%</td>\n",
       "      <td>2.4</td>\n",
       "    </tr>\n",
       "    <tr>\n",
       "      <th>656223</th>\n",
       "      <td>chris lytle</td>\n",
       "      <td>win</td>\n",
       "      <td>Tiki Ghosn</td>\n",
       "      <td>0\\n</td>\n",
       "      <td>34\\n</td>\n",
       "      <td>2\\n</td>\n",
       "      <td>1\\n</td>\n",
       "      <td>UFC 47: It's On!\\n          \\n\\n\\n          \\n...</td>\n",
       "      <td>SUB\\n</td>\n",
       "      <td>2</td>\n",
       "      <td>...</td>\n",
       "      <td>Orthodox</td>\n",
       "      <td>Aug 18, 1974</td>\n",
       "      <td>3.76</td>\n",
       "      <td>45%</td>\n",
       "      <td>3.03</td>\n",
       "      <td>58%</td>\n",
       "      <td>0.7</td>\n",
       "      <td>55%</td>\n",
       "      <td>55%</td>\n",
       "      <td>2.4</td>\n",
       "    </tr>\n",
       "    <tr>\n",
       "      <th>656225</th>\n",
       "      <td>chris lytle</td>\n",
       "      <td>loss</td>\n",
       "      <td>Robbie Lawler</td>\n",
       "      <td>0\\n</td>\n",
       "      <td>37\\n</td>\n",
       "      <td>1\\n</td>\n",
       "      <td>1\\n</td>\n",
       "      <td>UFC 45: Revolution\\n          \\n\\n\\n          ...</td>\n",
       "      <td>U-DEC</td>\n",
       "      <td>3</td>\n",
       "      <td>...</td>\n",
       "      <td>Orthodox</td>\n",
       "      <td>Aug 18, 1974</td>\n",
       "      <td>3.76</td>\n",
       "      <td>45%</td>\n",
       "      <td>3.03</td>\n",
       "      <td>58%</td>\n",
       "      <td>0.7</td>\n",
       "      <td>55%</td>\n",
       "      <td>55%</td>\n",
       "      <td>2.4</td>\n",
       "    </tr>\n",
       "    <tr>\n",
       "      <th>656227</th>\n",
       "      <td>chris lytle</td>\n",
       "      <td>loss</td>\n",
       "      <td>Ben Earwood</td>\n",
       "      <td>0\\n</td>\n",
       "      <td>2\\n</td>\n",
       "      <td>0\\n</td>\n",
       "      <td>1\\n</td>\n",
       "      <td>UFC 28: High Stakes\\n          \\n\\n\\n         ...</td>\n",
       "      <td>U-DEC</td>\n",
       "      <td>2</td>\n",
       "      <td>...</td>\n",
       "      <td>Orthodox</td>\n",
       "      <td>Aug 18, 1974</td>\n",
       "      <td>3.76</td>\n",
       "      <td>45%</td>\n",
       "      <td>3.03</td>\n",
       "      <td>58%</td>\n",
       "      <td>0.7</td>\n",
       "      <td>55%</td>\n",
       "      <td>55%</td>\n",
       "      <td>2.4</td>\n",
       "    </tr>\n",
       "  </tbody>\n",
       "</table>\n",
       "<p>21506 rows × 31 columns</p>\n",
       "</div>"
      ],
      "text/plain": [
       "                Fighter   W/L        Opponent Knockdowns Strikes Takedowns  \\\n",
       "0             tom aaron  loss  Matt Ricehouse         --      --        --   \n",
       "10            tom aaron   win  Eric Steenberg         --      --        --   \n",
       "20         danny abbadi  loss    Jorge Gurgel          0      56         0   \n",
       "30         danny abbadi  loss   Kalib Starnes          0       3         0   \n",
       "40      nariman abbasov  loss   Ismael Bonfim          0      45         0   \n",
       "...                 ...   ...             ...        ...     ...       ...   \n",
       "656219      chris lytle  loss   Karo Parisyan        0\\n     7\\n       0\\n   \n",
       "656221      chris lytle   win     Ronald Jhun        1\\n    12\\n       0\\n   \n",
       "656223      chris lytle   win      Tiki Ghosn        0\\n    34\\n       2\\n   \n",
       "656225      chris lytle  loss   Robbie Lawler        0\\n    37\\n       1\\n   \n",
       "656227      chris lytle  loss     Ben Earwood        0\\n     2\\n       0\\n   \n",
       "\n",
       "       SubmissionAttempts                                              Event  \\\n",
       "0                      --  Strikeforce - Henderson vs. Babalu            ...   \n",
       "10                     --  Strikeforce - Heavy Artillery                 ...   \n",
       "20                      0  UFC 63: Hughes vs Penn                        ...   \n",
       "30                      0  The Ultimate Fighter: Team Ortiz vs. Team Sham...   \n",
       "40                      0  DWCS 6.7                                   Sep...   \n",
       "...                   ...                                                ...   \n",
       "656219                2\\n  UFC 51: Super Saturday\\n          \\n\\n\\n      ...   \n",
       "656221                2\\n  UFC 49: Unfinished Business\\n          \\n\\n\\n ...   \n",
       "656223                1\\n  UFC 47: It's On!\\n          \\n\\n\\n          \\n...   \n",
       "656225                1\\n  UFC 45: Revolution\\n          \\n\\n\\n          ...   \n",
       "656227                1\\n  UFC 28: High Stakes\\n          \\n\\n\\n         ...   \n",
       "\n",
       "       Method  Round  ...    STANCE           DOB  SLpM Str. Acc.  SApM  \\\n",
       "0       U-DEC      3  ...       NaN  Jul 13, 1978  0.00        0%  0.00   \n",
       "10        SUB      1  ...       NaN  Jul 13, 1978  0.00        0%  0.00   \n",
       "20      S-DEC      3  ...  Orthodox  Jul 03, 1983  3.29       38%  4.41   \n",
       "30        SUB      1  ...  Orthodox  Jul 03, 1983  3.29       38%  4.41   \n",
       "40      U-DEC      3  ...  Orthodox  Feb 01, 1994  3.00       20%  5.67   \n",
       "...       ...    ...  ...       ...           ...   ...       ...   ...   \n",
       "656219  U-DEC      3  ...  Orthodox  Aug 18, 1974  3.76       45%  3.03   \n",
       "656221  SUB\\n      2  ...  Orthodox  Aug 18, 1974  3.76       45%  3.03   \n",
       "656223  SUB\\n      2  ...  Orthodox  Aug 18, 1974  3.76       45%  3.03   \n",
       "656225  U-DEC      3  ...  Orthodox  Aug 18, 1974  3.76       45%  3.03   \n",
       "656227  U-DEC      2  ...  Orthodox  Aug 18, 1974  3.76       45%  3.03   \n",
       "\n",
       "        Str. Def  TD Avg. TD Acc. TD Def. Sub. Avg.  \n",
       "0             0%      0.0      0%      0%       0.0  \n",
       "10            0%      0.0      0%      0%       0.0  \n",
       "20           57%      0.0      0%     77%       0.0  \n",
       "30           57%      0.0      0%     77%       0.0  \n",
       "40           46%      0.0      0%     66%       0.0  \n",
       "...          ...      ...     ...     ...       ...  \n",
       "656219       58%      0.7     55%     55%       2.4  \n",
       "656221       58%      0.7     55%     55%       2.4  \n",
       "656223       58%      0.7     55%     55%       2.4  \n",
       "656225       58%      0.7     55%     55%       2.4  \n",
       "656227       58%      0.7     55%     55%       2.4  \n",
       "\n",
       "[21506 rows x 31 columns]"
      ]
     },
     "execution_count": 27,
     "metadata": {},
     "output_type": "execute_result"
    }
   ],
   "source": [
    "df_cleaned = df.drop_duplicates()\n",
    "df_cleaned"
   ]
  },
  {
   "cell_type": "code",
   "execution_count": 28,
   "id": "6c14a7d2-03fd-48af-9b4b-05295ccb1647",
   "metadata": {},
   "outputs": [
    {
     "name": "stdout",
     "output_type": "stream",
     "text": [
      "Shape after removing duplicates: (21506, 31)\n"
     ]
    }
   ],
   "source": [
    "print(\"Shape after removing duplicates:\", df_cleaned.shape)"
   ]
  },
  {
   "cell_type": "code",
   "execution_count": 31,
   "id": "2829584b-314f-4773-9e16-9f83a773264c",
   "metadata": {},
   "outputs": [
    {
     "name": "stdout",
     "output_type": "stream",
     "text": [
      "Cleaned file saved as 'ufc_clean_no_duplicates.csv\n"
     ]
    }
   ],
   "source": [
    "df_cleaned.to_csv(r\"C:\\Users\\HP\\OneDrive\\Desktop\\DEMO 3\\All\\ufc_clean_no_duplicates.csv\", index=False)\n",
    "print(\"Cleaned file saved as 'ufc_clean_no_duplicates.csv\")"
   ]
  },
  {
   "cell_type": "code",
   "execution_count": null,
   "id": "c89251b2-328e-4bba-8111-d1d5e48d63c0",
   "metadata": {},
   "outputs": [],
   "source": []
  }
 ],
 "metadata": {
  "kernelspec": {
   "display_name": "Python [conda env:base] *",
   "language": "python",
   "name": "conda-base-py"
  },
  "language_info": {
   "codemirror_mode": {
    "name": "ipython",
    "version": 3
   },
   "file_extension": ".py",
   "mimetype": "text/x-python",
   "name": "python",
   "nbconvert_exporter": "python",
   "pygments_lexer": "ipython3",
   "version": "3.12.7"
  }
 },
 "nbformat": 4,
 "nbformat_minor": 5
}
